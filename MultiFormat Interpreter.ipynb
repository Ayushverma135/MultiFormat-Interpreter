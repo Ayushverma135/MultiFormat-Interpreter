{
  "cells": [
    {
      "cell_type": "markdown",
      "source": [
        "# 1. Install the Required Libraries"
      ],
      "metadata": {
        "id": "m4hDQhjvA21U"
      }
    },
    {
      "cell_type": "code",
      "source": [
        "pip install PyPDF2 pandas openai tk gpt4all\n"
      ],
      "metadata": {
        "colab": {
          "base_uri": "https://localhost:8080/"
        },
        "id": "P-2RU-Jr4Iq8",
        "outputId": "c6977530-59da-4d25-89cf-078411c7ef71"
      },
      "execution_count": 10,
      "outputs": [
        {
          "output_type": "stream",
          "name": "stdout",
          "text": [
            "Requirement already satisfied: PyPDF2 in /usr/local/lib/python3.10/dist-packages (3.0.1)\n",
            "Requirement already satisfied: pandas in /usr/local/lib/python3.10/dist-packages (2.0.3)\n",
            "Requirement already satisfied: openai in /usr/local/lib/python3.10/dist-packages (1.35.10)\n",
            "Requirement already satisfied: tk in /usr/local/lib/python3.10/dist-packages (0.1.0)\n",
            "Requirement already satisfied: gpt4all in /usr/local/lib/python3.10/dist-packages (2.7.0)\n",
            "Requirement already satisfied: python-dateutil>=2.8.2 in /usr/local/lib/python3.10/dist-packages (from pandas) (2.8.2)\n",
            "Requirement already satisfied: pytz>=2020.1 in /usr/local/lib/python3.10/dist-packages (from pandas) (2023.4)\n",
            "Requirement already satisfied: tzdata>=2022.1 in /usr/local/lib/python3.10/dist-packages (from pandas) (2024.1)\n",
            "Requirement already satisfied: numpy>=1.21.0 in /usr/local/lib/python3.10/dist-packages (from pandas) (1.25.2)\n",
            "Requirement already satisfied: anyio<5,>=3.5.0 in /usr/local/lib/python3.10/dist-packages (from openai) (3.7.1)\n",
            "Requirement already satisfied: distro<2,>=1.7.0 in /usr/lib/python3/dist-packages (from openai) (1.7.0)\n",
            "Requirement already satisfied: httpx<1,>=0.23.0 in /usr/local/lib/python3.10/dist-packages (from openai) (0.27.0)\n",
            "Requirement already satisfied: pydantic<3,>=1.9.0 in /usr/local/lib/python3.10/dist-packages (from openai) (2.8.0)\n",
            "Requirement already satisfied: sniffio in /usr/local/lib/python3.10/dist-packages (from openai) (1.3.1)\n",
            "Requirement already satisfied: tqdm>4 in /usr/local/lib/python3.10/dist-packages (from openai) (4.66.4)\n",
            "Requirement already satisfied: typing-extensions<5,>=4.7 in /usr/local/lib/python3.10/dist-packages (from openai) (4.12.2)\n",
            "Requirement already satisfied: requests in /usr/local/lib/python3.10/dist-packages (from gpt4all) (2.31.0)\n",
            "Requirement already satisfied: idna>=2.8 in /usr/local/lib/python3.10/dist-packages (from anyio<5,>=3.5.0->openai) (3.7)\n",
            "Requirement already satisfied: exceptiongroup in /usr/local/lib/python3.10/dist-packages (from anyio<5,>=3.5.0->openai) (1.2.1)\n",
            "Requirement already satisfied: certifi in /usr/local/lib/python3.10/dist-packages (from httpx<1,>=0.23.0->openai) (2024.6.2)\n",
            "Requirement already satisfied: httpcore==1.* in /usr/local/lib/python3.10/dist-packages (from httpx<1,>=0.23.0->openai) (1.0.5)\n",
            "Requirement already satisfied: h11<0.15,>=0.13 in /usr/local/lib/python3.10/dist-packages (from httpcore==1.*->httpx<1,>=0.23.0->openai) (0.14.0)\n",
            "Requirement already satisfied: annotated-types>=0.4.0 in /usr/local/lib/python3.10/dist-packages (from pydantic<3,>=1.9.0->openai) (0.7.0)\n",
            "Requirement already satisfied: pydantic-core==2.20.0 in /usr/local/lib/python3.10/dist-packages (from pydantic<3,>=1.9.0->openai) (2.20.0)\n",
            "Requirement already satisfied: six>=1.5 in /usr/local/lib/python3.10/dist-packages (from python-dateutil>=2.8.2->pandas) (1.16.0)\n",
            "Requirement already satisfied: charset-normalizer<4,>=2 in /usr/local/lib/python3.10/dist-packages (from requests->gpt4all) (3.3.2)\n",
            "Requirement already satisfied: urllib3<3,>=1.21.1 in /usr/local/lib/python3.10/dist-packages (from requests->gpt4all) (2.0.7)\n"
          ]
        }
      ]
    },
    {
      "cell_type": "markdown",
      "metadata": {
        "id": "U45JgEDm3rAd"
      },
      "source": [
        "# 2. File Reader Module"
      ]
    },
    {
      "cell_type": "code",
      "execution_count": 11,
      "metadata": {
        "id": "esvW9plp3rAj"
      },
      "outputs": [],
      "source": [
        "import PyPDF2\n",
        "import pandas as pd\n",
        "import json\n",
        "import tkinter as tk\n",
        "from tkinter import filedialog\n",
        "from gpt4all import GPT4All\n",
        "\n",
        "# Function to read PDF files\n",
        "def read_pdf(file_path):\n",
        "    with open(file_path, 'rb') as file:\n",
        "        reader = PyPDF2.PdfReader(file)\n",
        "        text = \"\"\n",
        "        for page_num in range(len(reader.pages)):\n",
        "            text += reader.pages[page_num].extract_text()\n",
        "    return text\n",
        "\n",
        "# Function to read text files\n",
        "def read_txt(file_path):\n",
        "    with open(file_path, 'r') as file:\n",
        "        text = file.read()\n",
        "    return text\n",
        "\n",
        "# Function to read CSV files\n",
        "def read_csv(file_path):\n",
        "    df = pd.read_csv(file_path)\n",
        "    return df.to_string()\n",
        "\n",
        "# Function to read JSON files\n",
        "def read_json(file_path):\n",
        "    with open(file_path, 'r') as file:\n",
        "        data = json.load(file)\n",
        "    return json.dumps(data, indent=4)\n",
        "\n",
        "# Function to read Excel files\n",
        "def read_excel(file_path):\n",
        "    df = pd.read_excel(file_path)\n",
        "    return df.to_string()\n"
      ]
    },
    {
      "cell_type": "markdown",
      "metadata": {
        "id": "d_LCQ4kP3rAm"
      },
      "source": [
        "# 3. Code Writer Module\n",
        "Next, we'll use the GPT-4ALL model to generate Python code based on the file content and user's prompt."
      ]
    },
    {
      "cell_type": "code",
      "execution_count": 12,
      "metadata": {
        "id": "tl5utDaK3rAn"
      },
      "outputs": [],
      "source": [
        "# Function to generate code using GPT-4All\n",
        "def generate_code(prompt):\n",
        "    gpt = GPT4All('Meta-Llama-3-8B-Instruct.Q4_0.gguf') # Replace with the path to your GPT-4All model\n",
        "    response = gpt.generate(prompt, max_tokens=150)\n",
        "    return response\n",
        "\n"
      ]
    },
    {
      "cell_type": "markdown",
      "metadata": {
        "id": "WQZnV-zy3rAp"
      },
      "source": [
        "# 4. Integration and Final Answer Module\n",
        "Now, let's integrate these modules into a cohesive workflow."
      ]
    },
    {
      "cell_type": "code",
      "execution_count": 13,
      "metadata": {
        "colab": {
          "base_uri": "https://localhost:8080/"
        },
        "id": "_ZI_NWK63rAq",
        "outputId": "cb3c60fc-d035-40c4-c40d-d37028ec35c9"
      },
      "outputs": [
        {
          "output_type": "stream",
          "name": "stdout",
          "text": [
            "Enter the path to your file: /content/cow.pdf\n",
            "Content of the file:\n",
            "Write a Python Program to print Prime numbers From 1 to 1000.\n",
            "Enter your prompt for the code generation: generate python code\n",
            "Generated code:\n",
            " for printing prime number from 1-1000.\n",
            "Output:\n",
            "2,3,5,7,11,13,17,19,23,29,31,37,41,43,47,53,59,61,67,71,73,79,83,89,97\n",
            "\n",
            "Python Code:\n",
            "\n",
            "```python\n",
            "def is_prime(n):\n",
            "    if n < 2:\n",
            "        return False\n",
            "    for i in range(2, int(n**0.5) + 1):\n",
            "        if n % i == 0:\n",
            "            return False\n",
            "    return True\n",
            "\n",
            "\n",
            "for num in range(1, 1001):\n",
            "    if is_prime(num):\n",
            "        print(num)\n",
            "```\n",
            "\n",
            "Output:\n",
            "\n",
            "```python\n",
            "2\n"
          ]
        }
      ],
      "source": [
        "# Function to read file based on its type\n",
        "def read_file(file_path):\n",
        "    if file_path.endswith('.pdf'):\n",
        "        return read_pdf(file_path)\n",
        "    elif file_path.endswith('.txt'):\n",
        "        return read_txt(file_path)\n",
        "    elif file_path.endswith('.csv'):\n",
        "        return read_csv(file_path)\n",
        "    elif file_path.endswith('.json'):\n",
        "        return read_json(file_path)\n",
        "    elif file_path.endswith('.xlsx'):\n",
        "        return read_excel(file_path)\n",
        "    else:\n",
        "        return \"Unsupported file type\"\n",
        "\n",
        "# Function to prompt user for input and generate code\n",
        "def prompt_and_generate():\n",
        "    # root = tk.Tk()  # Remove these lines\n",
        "    # root.withdraw()  # Hide the root window\n",
        "    # file_path = filedialog.askopenfilename(title=\"Select a file\") # Remove this line\n",
        "\n",
        "    file_path = input(\"Enter the path to your file: \") # Ask for file path as input\n",
        "\n",
        "    if not file_path:\n",
        "        print(\"No file path provided.\")\n",
        "        return\n",
        "\n",
        "    file_content = read_file(file_path)\n",
        "    print(f\"Content of the file:\\n{file_content}\")\n",
        "\n",
        "    user_prompt = input(\"Enter your prompt for the code generation: \")\n",
        "    full_prompt = f\"File content:\\n{file_content}\\n\\nUser prompt:\\n{user_prompt}\"\n",
        "    generated_code = generate_code(full_prompt)\n",
        "\n",
        "    print(f\"Generated code:\\n{generated_code}\")\n",
        "\n",
        "# Run the prompt and generate function\n",
        "if __name__ == \"__main__\":\n",
        "    prompt_and_generate()\n"
      ]
    }
  ],
  "metadata": {
    "kernelspec": {
      "display_name": "Python 3",
      "language": "python",
      "name": "python3"
    },
    "language_info": {
      "codemirror_mode": {
        "name": "ipython",
        "version": 3
      },
      "file_extension": ".py",
      "mimetype": "text/x-python",
      "name": "python",
      "nbconvert_exporter": "python",
      "pygments_lexer": "ipython3",
      "version": "3.12.2"
    },
    "colab": {
      "provenance": []
    }
  },
  "nbformat": 4,
  "nbformat_minor": 0
}